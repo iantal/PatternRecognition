{
 "cells": [
  {
   "cell_type": "code",
   "execution_count": 1,
   "metadata": {},
   "outputs": [],
   "source": [
    "# Used modules\n",
    "import re\n",
    "import pandas as pd\n",
    "import numpy as np\n",
    "import tldextract as tlx\n",
    "import matplotlib.pyplot as plt\n",
    "import seaborn as sns\n",
    "from urlparse import urlparse\n",
    "\n",
    "plt.style.use('classic')\n",
    "%matplotlib inline\n",
    "\n",
    "sns.set()"
   ]
  },
  {
   "cell_type": "markdown",
   "metadata": {},
   "source": [
    "# Loading the dataset"
   ]
  },
  {
   "cell_type": "code",
   "execution_count": 2,
   "metadata": {},
   "outputs": [
    {
     "data": {
      "text/html": [
       "<div>\n",
       "<style scoped>\n",
       "    .dataframe tbody tr th:only-of-type {\n",
       "        vertical-align: middle;\n",
       "    }\n",
       "\n",
       "    .dataframe tbody tr th {\n",
       "        vertical-align: top;\n",
       "    }\n",
       "\n",
       "    .dataframe thead th {\n",
       "        text-align: right;\n",
       "    }\n",
       "</style>\n",
       "<table border=\"1\" class=\"dataframe\">\n",
       "  <thead>\n",
       "    <tr style=\"text-align: right;\">\n",
       "      <th></th>\n",
       "      <th>url</th>\n",
       "      <th>label</th>\n",
       "    </tr>\n",
       "  </thead>\n",
       "  <tbody>\n",
       "    <tr>\n",
       "      <th>0</th>\n",
       "      <td>startbuyingstocks.com/</td>\n",
       "      <td>0</td>\n",
       "    </tr>\n",
       "    <tr>\n",
       "      <th>1</th>\n",
       "      <td>qqcvk.com/</td>\n",
       "      <td>0</td>\n",
       "    </tr>\n",
       "    <tr>\n",
       "      <th>2</th>\n",
       "      <td>432parkavenue.com/</td>\n",
       "      <td>0</td>\n",
       "    </tr>\n",
       "    <tr>\n",
       "      <th>3</th>\n",
       "      <td>gamefoliant.ru/</td>\n",
       "      <td>0</td>\n",
       "    </tr>\n",
       "    <tr>\n",
       "      <th>4</th>\n",
       "      <td>orka.cn/</td>\n",
       "      <td>0</td>\n",
       "    </tr>\n",
       "  </tbody>\n",
       "</table>\n",
       "</div>"
      ],
      "text/plain": [
       "                      url  label\n",
       "0  startbuyingstocks.com/      0\n",
       "1              qqcvk.com/      0\n",
       "2      432parkavenue.com/      0\n",
       "3         gamefoliant.ru/      0\n",
       "4                orka.cn/      0"
      ]
     },
     "execution_count": 2,
     "metadata": {},
     "output_type": "execute_result"
    }
   ],
   "source": [
    "initial_dataset =  pd.read_csv('../data/data_21K_good_and_malicious_URLs.csv')\n",
    "initial_dataset.head()"
   ]
  },
  {
   "cell_type": "code",
   "execution_count": 3,
   "metadata": {},
   "outputs": [],
   "source": [
    "def print_df_shape(df):\n",
    "    rows = df.shape[0]\n",
    "    cols = df.shape[1]\n",
    "    print str(rows) + '\\trows'\n",
    "    print str(cols) + '\\tcolumns'"
   ]
  },
  {
   "cell_type": "code",
   "execution_count": 4,
   "metadata": {},
   "outputs": [],
   "source": [
    "def remove_duplicates(dataset):\n",
    "    dataset.dropna(inplace=True)\n",
    "    dataset.drop_duplicates(inplace=True)\n",
    "    dataset.reset_index(drop=True)"
   ]
  },
  {
   "cell_type": "code",
   "execution_count": 5,
   "metadata": {},
   "outputs": [
    {
     "name": "stdout",
     "output_type": "stream",
     "text": [
      "Before removing duplicates:\n",
      "20905\trows\n",
      "2\tcolumns\n",
      "\n",
      "After removing duplicates:\n",
      "20875\trows\n",
      "2\tcolumns\n",
      "\n",
      "30 rows were removed\n"
     ]
    }
   ],
   "source": [
    "print 'Before removing duplicates:'\n",
    "print_df_shape(initial_dataset)\n",
    "old_number_of_rows = initial_dataset.shape[0]\n",
    "\n",
    "remove_duplicates(initial_dataset)\n",
    "\n",
    "print '\\nAfter removing duplicates:'\n",
    "print_df_shape(initial_dataset)\n",
    "new_number_of_rows=initial_dataset.shape[0]\n",
    "\n",
    "print \"\\n\" + str(old_number_of_rows - new_number_of_rows) + ' rows were removed'"
   ]
  },
  {
   "cell_type": "code",
   "execution_count": 6,
   "metadata": {},
   "outputs": [],
   "source": [
    "red_color = \"#f45f41\"\n",
    "green_color = \"#42f492\"\n",
    "sns.set(style=\"white\")\n",
    "def count_plot(dataset, x, figsize=(15, 8), xlim=(None, None)):\n",
    "    fig = plt.figure(figsize=figsize)\n",
    "    cp = sns.countplot(\n",
    "        data=dataset, \n",
    "        x=x, \n",
    "        hue=\"label\", \n",
    "        palette={1: red_color, 0: green_color}\n",
    "    ).set(xlim=xlim)"
   ]
  },
  {
   "cell_type": "code",
   "execution_count": 7,
   "metadata": {},
   "outputs": [
    {
     "name": "stdout",
     "output_type": "stream",
     "text": [
      "Malicious URLs:\t16028\n",
      "Benign URLs:\t4847\n"
     ]
    },
    {
     "data": {
      "image/png": "[encoded data removed]",
      "text/plain": [
       "<Figure size 720x576 with 1 Axes>"
      ]
     },
     "metadata": {},
     "output_type": "display_data"
    }
   ],
   "source": [
    "count_plot(initial_dataset, \"label\", (10,8))\n",
    "print \"Malicious URLs:\\t{}\".format(initial_dataset['label'][initial_dataset.label == 1].count())\n",
    "print \"Benign URLs:\\t{}\".format(initial_dataset['label'][initial_dataset.label == 0].count())"
   ]
  },
  {
   "cell_type": "markdown",
   "metadata": {},
   "source": [
    "# Feature Engineering"
   ]
  },
  {
   "cell_type": "code",
   "execution_count": 8,
   "metadata": {},
   "outputs": [],
   "source": [
    "# Method to count number of delimiters\n",
    "def count_delimiters(url):\n",
    "    count = 0\n",
    "    delimiters = [';', '_', '?', '=', '&']\n",
    "    for character in url:\n",
    "        if character in delimiters:\n",
    "            count += 1\n",
    "    return count"
   ]
  },
  {
   "cell_type": "code",
   "execution_count": 9,
   "metadata": {},
   "outputs": [],
   "source": [
    "def count_query_parameters(query):\n",
    "    if not query:\n",
    "        return 0\n",
    "    else:\n",
    "        return len(query.split('&'))"
   ]
  },
  {
   "cell_type": "code",
   "execution_count": 10,
   "metadata": {},
   "outputs": [],
   "source": [
    "def compute_features(url):\n",
    "    dbl_slash = url.count('//')\n",
    "    extracted_tld = tlx.extract(url)\n",
    "    parsed_url = urlparse(url)\n",
    "    return dict({\n",
    "        \"hyphens\": url.count('-'),\n",
    "        \"ats\": url.count('@'),\n",
    "        \"dblbackslash\": url.count('\\\\'),\n",
    "        \"fwdslash\": url.count('/'),\n",
    "        \"dots\": url.count('.'),\n",
    "        \"subdomaindots\": extracted_tld.subdomain.count('.'),\n",
    "        \"urllength\": len(url),\n",
    "        \"pathlength\": len(parsed_url.path),\n",
    "        \"subdomain\": extracted_tld.subdomain,\n",
    "        \"domain\": extracted_tld.domain,\n",
    "        \"tldomain\": extracted_tld.suffix,\n",
    "        \"delimiters\": count_delimiters(url),\n",
    "        \"parameters\": count_query_parameters(parsed_url.query),\n",
    "        \"protocol\": 1 if parsed_url.scheme == 'https' else 0,\n",
    "        \"dblfwdslash\": dbl_slash if dbl_slash > 1 else 0,\n",
    "        \"ip\": 1 if re.match(r\"^\\d{1,3}\\.\\d{1,3}\\.\\d{1,3}\\.\\d{1,3}$\",parsed_url.netloc) else 0\n",
    "        \n",
    "    })"
   ]
  },
  {
   "cell_type": "code",
   "execution_count": 11,
   "metadata": {},
   "outputs": [],
   "source": [
    "def add_features(dataset, features):\n",
    "    columns = features.copy()\n",
    "    columns['url'] = []\n",
    "    columns['label'] = []\n",
    "    for i in range(len(dataset)):\n",
    "        columns['url'].append(dataset['url'].iloc[i])\n",
    "        columns['label'].append(dataset['label'].iloc[i])\n",
    "        computed_features = compute_features(str(dataset['url'].iloc[i]))\n",
    "        for column in columns.keys():\n",
    "            if column not in ['url', 'label']:\n",
    "                columns[column].append(computed_features[column])\n",
    "    return columns"
   ]
  },
  {
   "cell_type": "code",
   "execution_count": 12,
   "metadata": {},
   "outputs": [
    {
     "name": "stdout",
     "output_type": "stream",
     "text": [
      "20875\trows\n",
      "2\tcolumns\n"
     ]
    },
    {
     "data": {
      "text/html": [
       "<div>\n",
       "<style scoped>\n",
       "    .dataframe tbody tr th:only-of-type {\n",
       "        vertical-align: middle;\n",
       "    }\n",
       "\n",
       "    .dataframe tbody tr th {\n",
       "        vertical-align: top;\n",
       "    }\n",
       "\n",
       "    .dataframe thead th {\n",
       "        text-align: right;\n",
       "    }\n",
       "</style>\n",
       "<table border=\"1\" class=\"dataframe\">\n",
       "  <thead>\n",
       "    <tr style=\"text-align: right;\">\n",
       "      <th></th>\n",
       "      <th>ats</th>\n",
       "      <th>dblbackslash</th>\n",
       "      <th>dblfwdslash</th>\n",
       "      <th>delimiters</th>\n",
       "      <th>domain</th>\n",
       "      <th>dots</th>\n",
       "      <th>fwdslash</th>\n",
       "      <th>hyphens</th>\n",
       "      <th>ip</th>\n",
       "      <th>label</th>\n",
       "      <th>parameters</th>\n",
       "      <th>pathlength</th>\n",
       "      <th>protocol</th>\n",
       "      <th>subdomain</th>\n",
       "      <th>subdomaindots</th>\n",
       "      <th>tldomain</th>\n",
       "      <th>url</th>\n",
       "      <th>urllength</th>\n",
       "    </tr>\n",
       "  </thead>\n",
       "  <tbody>\n",
       "    <tr>\n",
       "      <th>7486</th>\n",
       "      <td>0</td>\n",
       "      <td>0</td>\n",
       "      <td>0</td>\n",
       "      <td>0</td>\n",
       "      <td>jhaa</td>\n",
       "      <td>3</td>\n",
       "      <td>5</td>\n",
       "      <td>0</td>\n",
       "      <td>0</td>\n",
       "      <td>1</td>\n",
       "      <td>0</td>\n",
       "      <td>19</td>\n",
       "      <td>0</td>\n",
       "      <td></td>\n",
       "      <td>0</td>\n",
       "      <td>org.bd</td>\n",
       "      <td>http://jhaa.org.bd/olw/font/index.php</td>\n",
       "      <td>37</td>\n",
       "    </tr>\n",
       "  </tbody>\n",
       "</table>\n",
       "</div>"
      ],
      "text/plain": [
       "      ats  dblbackslash  dblfwdslash  delimiters domain  dots  fwdslash  \\\n",
       "7486    0             0            0           0   jhaa     3         5   \n",
       "\n",
       "      hyphens  ip  label  parameters  pathlength  protocol subdomain  \\\n",
       "7486        0   0      1           0          19         0             \n",
       "\n",
       "      subdomaindots tldomain                                    url  urllength  \n",
       "7486              0   org.bd  http://jhaa.org.bd/olw/font/index.php         37  "
      ]
     },
     "execution_count": 12,
     "metadata": {},
     "output_type": "execute_result"
    }
   ],
   "source": [
    "data = {\n",
    "    \"hyphens\": [],\n",
    "    \"ats\": [],\n",
    "    \"dblbackslash\": [],\n",
    "    \"fwdslash\": [],\n",
    "    \"dblfwdslash\": [],\n",
    "    \"subdomain\": [],\n",
    "    \"domain\": [],\n",
    "    \"tldomain\": [],\n",
    "    \"delimiters\": [],\n",
    "    \"dots\": [],\n",
    "    \"subdomaindots\": [],\n",
    "    \"parameters\": [],\n",
    "    \"protocol\": [],\n",
    "    \"urllength\": [],\n",
    "    \"pathlength\": [],\n",
    "    \"ip\": []\n",
    "}\n",
    "dtf = add_features(initial_dataset, data)\n",
    "print_df_shape(initial_dataset)\n",
    "dataset = pd.DataFrame(data=dtf)\n",
    "dataset.sample()"
   ]
  },
  {
   "cell_type": "markdown",
   "metadata": {},
   "source": [
    "# Data Analysis"
   ]
  },
  {
   "cell_type": "code",
   "execution_count": null,
   "metadata": {},
   "outputs": [],
   "source": []
  },
  {
   "cell_type": "code",
   "execution_count": null,
   "metadata": {},
   "outputs": [],
   "source": []
  }
 ],
 "metadata": {
  "kernelspec": {
   "display_name": "Python 2",
   "language": "python",
   "name": "python2"
  },
  "language_info": {
   "codemirror_mode": {
    "name": "ipython",
    "version": 2
   },
   "file_extension": ".py",
   "mimetype": "text/x-python",
   "name": "python",
   "nbconvert_exporter": "python",
   "pygments_lexer": "ipython2",
   "version": "2.7.15"
  }
 },
 "nbformat": 4,
 "nbformat_minor": 2
}
